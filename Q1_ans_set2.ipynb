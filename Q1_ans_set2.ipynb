{
  "nbformat": 4,
  "nbformat_minor": 0,
  "metadata": {
    "colab": {
      "provenance": []
    },
    "kernelspec": {
      "name": "python3",
      "display_name": "Python 3"
    },
    "language_info": {
      "name": "python"
    }
  },
  "cells": [
    {
      "cell_type": "code",
      "execution_count": 1,
      "metadata": {
        "id": "Q0j06z54vXjd"
      },
      "outputs": [],
      "source": [
        "from scipy import stats\n",
        "from scipy.stats import norm"
      ]
    },
    {
      "cell_type": "code",
      "source": [
        "#X=50; Z = (X - µ) / σ \n",
        "Z=(50-45)/8\n",
        "Z\n",
        "\n"
      ],
      "metadata": {
        "colab": {
          "base_uri": "https://localhost:8080/"
        },
        "id": "TcGPw4dHveV4",
        "outputId": "ec5f0991-a624-40c4-effe-9ef50efedcc6"
      },
      "execution_count": 3,
      "outputs": [
        {
          "output_type": "execute_result",
          "data": {
            "text/plain": [
              "0.625"
            ]
          },
          "metadata": {},
          "execution_count": 3
        }
      ]
    },
    {
      "cell_type": "code",
      "source": [
        "# probability P(X>50) = 1-stats.norm.cdf(abs(z_score))\n",
        "1-stats.norm.cdf(abs(0.625))"
      ],
      "metadata": {
        "colab": {
          "base_uri": "https://localhost:8080/"
        },
        "id": "m678-QfuvjBr",
        "outputId": "d52cdeea-8c37-471b-e700-97f6e2f5c6ef"
      },
      "execution_count": 4,
      "outputs": [
        {
          "output_type": "execute_result",
          "data": {
            "text/plain": [
              "0.26598552904870054"
            ]
          },
          "metadata": {},
          "execution_count": 4
        }
      ]
    },
    {
      "cell_type": "code",
      "source": [
        "# OR Find probability P(X<=50); p_value=stats.norm.cdf(abs(z_score))  \n",
        "p_value=stats.norm.cdf(abs(0.625)) \n",
        "p_value"
      ],
      "metadata": {
        "colab": {
          "base_uri": "https://localhost:8080/"
        },
        "id": "7rL0IgdOvzy8",
        "outputId": "bfcff724-a47d-4981-f9a5-472f3dc72801"
      },
      "execution_count": 5,
      "outputs": [
        {
          "output_type": "execute_result",
          "data": {
            "text/plain": [
              "0.7340144709512995"
            ]
          },
          "metadata": {},
          "execution_count": 5
        }
      ]
    },
    {
      "cell_type": "code",
      "source": [
        "# P(X>50) = 1 - P(X<=50)\n",
        "1-0.734"
      ],
      "metadata": {
        "colab": {
          "base_uri": "https://localhost:8080/"
        },
        "id": "G8jqRJI0v6XK",
        "outputId": "322f85e1-a307-4278-daf0-eccc97d65137"
      },
      "execution_count": 6,
      "outputs": [
        {
          "output_type": "execute_result",
          "data": {
            "text/plain": [
              "0.266"
            ]
          },
          "metadata": {},
          "execution_count": 6
        }
      ]
    },
    {
      "cell_type": "code",
      "source": [],
      "metadata": {
        "id": "x61KApoUwAR-"
      },
      "execution_count": null,
      "outputs": []
    }
  ]
}